{
 "cells": [
  {
   "cell_type": "code",
   "execution_count": null,
   "id": "c7bc7a73-c196-4ac1-86bf-8daee8c2f5a5",
   "metadata": {},
   "outputs": [],
   "source": [
    "#1a Mean Removal"
   ]
  },
  {
   "cell_type": "code",
   "execution_count": 17,
   "id": "91927f26-7e7d-439e-97e7-b1158d442381",
   "metadata": {},
   "outputs": [],
   "source": [
    "import statistics\n",
    "import numpy as np\n",
    "import pandas as pd\n",
    "\n",
    "def remove_mean(input_file,output_file):\n",
    "    with open(input_file,'r') as file:\n",
    "        reader = csv.reader(file)\n",
    "        data=[float(row[0]) for row in reader]\n",
    "    mean_value=statistics.mean(data)\n",
    "    mean_removed_data = [x - mean_value for x in data]\n",
    "    with open(output_file,'w',newline=\"\") as file:\n",
    "        writer = csv.writer(file)\n",
    "        for value in mean_removed_data:\n",
    "            writer.writerow([value])\n",
    "if __name__ == \"__main__\":\n",
    "    input_file=\"data.csv\"\n",
    "    output_file = \"mean_removed_data2.csv\"\n",
    "    remove_mean(input_file,output_file)"
   ]
  },
  {
   "cell_type": "code",
   "execution_count": null,
   "id": "999580a2-6807-4ae0-8d37-0abacd1c05c3",
   "metadata": {},
   "outputs": [],
   "source": [
    "#1b Scaling"
   ]
  },
  {
   "cell_type": "code",
   "execution_count": 18,
   "id": "43d2c1fe-7e0d-4b13-96f9-cea5e8e93baa",
   "metadata": {},
   "outputs": [],
   "source": [
    "import csv\n",
    "def min_max_scaling(input_file,output_file,new_min=0,new_max=1):\n",
    "    with open(input_file,'r') as file:\n",
    "        reader =csv.reader(file)\n",
    "        data=[float(row[0]) for row in reader]\n",
    "    current_min=min(data)\n",
    "    current_max=max(data)\n",
    "    scaled_data=[(x-current_min)/(current_max-current_min)*(new_max-new_min)+new_min for x in data]\n",
    "    with open(output_file,'w',newline=\"\") as file:\n",
    "        writer = csv.writer(file)\n",
    "        for value in scaled_data:\n",
    "            writer.writerow([value])\n",
    "if __name__==\"__main__\":\n",
    "    input_file=\"data.csv\"\n",
    "    output_file=\"scaled_data1.csv\"\n",
    "    min_max_scaling(input_file,output_file)"
   ]
  },
  {
   "cell_type": "code",
   "execution_count": null,
   "id": "0c8c5fb7-792a-47e4-ae01-d4de80a949b5",
   "metadata": {},
   "outputs": [],
   "source": [
    "#1c Normalization"
   ]
  },
  {
   "cell_type": "code",
   "execution_count": null,
   "id": "95f50ede-a88e-4e7a-8236-22c93c91f54e",
   "metadata": {},
   "outputs": [],
   "source": [
    "import statistics\n",
    "def z_score_normalization(input_file,output_file):\n",
    "    with open(input_file,'r') as file:\n",
    "        reader =csv.reader(file)\n",
    "        data=[float(row[0]) for row in reader]\n",
    "    mean_value=statistics.mean(data)\n",
    "    standard_dev=statistics.stdev(data)\n",
    "    z_scored_data=[(x-mean_value)/standard_dev for x in data]\n",
    "    with open(output_file,'w',newline=\"\") as file:\n",
    "        writer = csv.writer(file)\n",
    "        for value in z_scored_data:\n",
    "            writer.writerow([value])\n",
    "if __name__ == \"__main__\":\n",
    "    input_file=\"data.csv\"\n",
    "    output_file = \"z_scord_data1.csv\"\n",
    "    z_score_normalization(input_file,output_file)"
   ]
  },
  {
   "cell_type": "code",
   "execution_count": null,
   "id": "0f13a89d-ddb2-4abd-ac1d-f91f4ba507cd",
   "metadata": {},
   "outputs": [],
   "source": [
    "#2a naive bayes"
   ]
  },
  {
   "cell_type": "code",
   "execution_count": 16,
   "id": "8be0f170-4fee-449a-a1d9-3a8a0fcdfb92",
   "metadata": {},
   "outputs": [
    {
     "name": "stdout",
     "output_type": "stream",
     "text": [
      "Index(['Weather', 'Wind', 'Temp', 'go'], dtype='object')\n",
      "0.5\n"
     ]
    }
   ],
   "source": [
    "import pandas as pd\n",
    "f = pd.DataFrame({'Weather':['Sunny', 'Rainy', 'Sunny', 'Sunny'],\n",
    "                'Wind':['Mild', 'Mild', 'High', 'Mild'],\n",
    "                'Temp':['Moderate', 'Mild', 'Moderate', 'Mild'],\n",
    "                'go':['Yes', 'No', 'Yes', 'Yes']})\n",
    "print(f.columns)\n",
    "\n",
    "from sklearn.naive_bayes import GaussianNB as g\n",
    "from sklearn.preprocessing import LabelEncoder as le\n",
    "from sklearn.model_selection import train_test_split as tt\n",
    "\n",
    "l = le()\n",
    "for i in f.columns:\n",
    "    f[i] = l.fit_transform(f[i])\n",
    "    x = f.iloc[:, :3]\n",
    "    y = f.iloc[:, 3]\n",
    "\n",
    "xtr, xte, ytr, yte = tt(x, y, test_size=0.3)\n",
    "gg = g()\n",
    "gg.fit(xtr, ytr)\n",
    "y_pred = gg.predict(xte)\n",
    "\n",
    "from sklearn.metrics import accuracy_score\n",
    "print(accuracy_score(yte, y_pred))\n"
   ]
  },
  {
   "cell_type": "code",
   "execution_count": null,
   "id": "a30730fc-1ad9-4dfa-afd5-d8f78cba9d7f",
   "metadata": {},
   "outputs": [],
   "source": [
    "#2b svm"
   ]
  },
  {
   "cell_type": "code",
   "execution_count": 7,
   "id": "cf8da3c0-d881-4bd0-b684-eb28119cd2fa",
   "metadata": {},
   "outputs": [
    {
     "name": "stdout",
     "output_type": "stream",
     "text": [
      "[[64  4]\n",
      " [ 3 29]]\n"
     ]
    },
    {
     "name": "stderr",
     "output_type": "stream",
     "text": [
      "C:\\Users\\student\\AppData\\Local\\Temp\\ipykernel_11332\\1078937868.py:28: UserWarning: *c* argument looks like a single numeric RGB or RGBA sequence, which should be avoided as value-mapping will have precedence in case its length matches with *x* & *y*.  Please use the *color* keyword-argument or provide a 2D array with a single row if you intend to specify the same RGB or RGBA value for all points.\n",
      "  plt.scatter(X_set[y_set == j, 0], X_set[y_set == j, 1],c = ListedColormap(('pink', 'green'))(i), label = j)\n"
     ]
    },
    {
     "data": {
      "image/png": "[encoded data removed]",
      "text/plain": [
       "<Figure size 640x480 with 1 Axes>"
      ]
     },
     "metadata": {},
     "output_type": "display_data"
    }
   ],
   "source": [
    "import numpy as np\n",
    "import matplotlib.pyplot as plt\n",
    "import pandas as pd\n",
    "dataset = pd.read_csv(\"Social_Network _Ads.csv\")\n",
    "X = dataset.iloc[:, [2, 3]].values \n",
    "y = dataset.iloc[:, 4].values\n",
    "from sklearn.model_selection import train_test_split \n",
    "X_train, X_test, y_train, y_test = train_test_split(X, y, test_size = 0.25, random_state = 0)\n",
    "from sklearn.preprocessing import StandardScaler\n",
    "sc = StandardScaler()\n",
    "X_train = sc.fit_transform(X_train)\n",
    "X_test = sc.transform(X_test)\n",
    "from sklearn.svm import SVC\n",
    "classifier = SVC(kernel='rbf', random_state = 0)\n",
    "classifier.fit(X_train, y_train)\n",
    "y_pred = classifier.predict(X_test)\n",
    "from sklearn.metrics import confusion_matrix, accuracy_score\n",
    "cm = confusion_matrix(y_test, y_pred)\n",
    "print(cm)\n",
    "accuracy_score(y_test,y_pred)\n",
    "from matplotlib.colors import ListedColormap\n",
    "X_set, y_set = X_test, y_test\n",
    "X1, X2 = np.meshgrid(np.arange(start = X_set[:, 0].min() - 1, stop = X_set[:, 0].max() + 1, step = 0.01),np.arange(start = X_set[:, 1].min() - 1, stop = X_set[:, 1].max() + 1, step = 0.01))\n",
    "plt.contourf(X1, X2, classifier.predict(np.array([X1.ravel(), X2.ravel()]).T).reshape(X1.shape),alpha = 0.75, cmap = ListedColormap(('red', 'green')))\n",
    "plt.xlim(X1.min(), X1.max())\n",
    "plt.ylim(X2.min(), X2.max())\n",
    "for i, j in enumerate(np.unique(y_set)):\n",
    "    plt.scatter(X_set[y_set == j, 0], X_set[y_set == j, 1],c = ListedColormap(('pink', 'green'))(i), label = j)\n",
    "plt.title('SVM (Test set)')\n",
    "plt.xlabel('Age')\n",
    "plt.ylabel('Estimated Salary')\n",
    "plt.legend()\n",
    "plt.show()\n"
   ]
  },
  {
   "cell_type": "code",
   "execution_count": null,
   "id": "a7a5374b-3a98-4526-bb8f-1e0912325fb3",
   "metadata": {},
   "outputs": [],
   "source": [
    "#2c logistic reg"
   ]
  },
  {
   "cell_type": "code",
   "execution_count": 8,
   "id": "19df2348-2c7a-4f6e-8354-6025173045f3",
   "metadata": {},
   "outputs": [
    {
     "name": "stdout",
     "output_type": "stream",
     "text": [
      "[[-0.71823753 -0.04863985]\n",
      " [ 0.08374747 -0.88246592]\n",
      " [-0.71823753 -0.5489355 ]\n",
      " [ 2.05458297  2.03592532]\n",
      " [ 0.39089067  0.53503839]\n",
      " [ 1.704781   -0.88246592]\n",
      " [-0.71823753 -1.04923114]\n",
      " [-0.71823753  1.36886446]\n",
      " [ 0.83454195 -0.88246592]\n",
      " [ 1.0734311  -1.04923114]]\n",
      "Confusion Matrix : \n",
      " [[118  12]\n",
      " [ 49  13]]\n",
      "Accuracy :  0.6822916666666666\n"
     ]
    },
    {
     "name": "stderr",
     "output_type": "stream",
     "text": [
      "C:\\Users\\student\\AppData\\Local\\Temp\\ipykernel_11332\\2477281342.py:48: UserWarning: *c* argument looks like a single numeric RGB or RGBA sequence, which should be avoided as value-mapping will have precedence in case its length matches with *x* & *y*.  Please use the *color* keyword-argument or provide a 2D array with a single row if you intend to specify the same RGB or RGBA value for all points.\n",
      "  plt.scatter(X_set[y_set == j, 0], X_set[y_set == j, 1],\n"
     ]
    },
    {
     "data": {
      "image/png": "[encoded data removed]",
      "text/plain": [
       "<Figure size 640x480 with 1 Axes>"
      ]
     },
     "metadata": {},
     "output_type": "display_data"
    }
   ],
   "source": [
    "import pandas as pd\n",
    "import numpy as np\n",
    "import matplotlib.pyplot as plt\n",
    "from sklearn.model_selection import train_test_split\n",
    "from sklearn.preprocessing import StandardScaler\n",
    "from sklearn.linear_model import LogisticRegression\n",
    "from sklearn.metrics import confusion_matrix\n",
    "from sklearn.metrics import accuracy_score\n",
    "from matplotlib.colors import ListedColormap\n",
    "\n",
    "dataset = pd.read_csv(\"ds.csv\")\n",
    "\n",
    "x = dataset.iloc[:, [4, 7]].values\n",
    "y = dataset.iloc[:, 8].values\n",
    "\n",
    "xtrain, xtest, ytrain, ytest = train_test_split(x, y, test_size = 0.25, random_state = 0)\n",
    "\n",
    "sc_x = StandardScaler()\n",
    "xtrain = sc_x.fit_transform(xtrain)\n",
    "xtest = sc_x.transform(xtest)\n",
    "\n",
    "print (xtrain[0:10, :])\n",
    "\n",
    "classifier = LogisticRegression(random_state = 0)\n",
    "classifier.fit(xtrain, ytrain)\n",
    "y_pred = classifier.predict(xtest)\n",
    "\n",
    "cm = confusion_matrix(ytest, y_pred)\n",
    "\n",
    "print (\"Confusion Matrix : \\n\", cm)\n",
    "\n",
    "print (\"Accuracy : \", accuracy_score(ytest, y_pred))\n",
    "\n",
    "X_set, y_set = xtest, ytest\n",
    "X1, X2 = np.meshgrid(np.arange(start = X_set[:, 0].min() - 1, \n",
    "          stop = X_set[:, 0].max() + 1, step = 0.01),\n",
    "          np.arange(start = X_set[:, 1].min() - 1,\n",
    "          stop = X_set[:, 1].max() + 1, step = 0.01))\n",
    "\n",
    "plt.contourf(X1, X2, classifier.predict(\n",
    "      np.array([X1.ravel(), X2.ravel()]).T).reshape(\n",
    "      X1.shape), alpha = 0.75, cmap = ListedColormap(('red', 'green')))\n",
    "\n",
    "plt.xlim(X1.min(), X1.max())\n",
    "plt.ylim(X2.min(), X2.max())\n",
    "\n",
    "for i, j in enumerate(np.unique(y_set)):\n",
    "  plt.scatter(X_set[y_set == j, 0], X_set[y_set == j, 1],\n",
    "        c = ListedColormap(('red', 'green'))(i), label = j)\n",
    "  \n",
    "plt.title('Classifier (Test set)')\n",
    "plt.xlabel('Age')\n",
    "plt.ylabel('Diabetes')\n",
    "plt.legend()\n",
    "plt.show()\n"
   ]
  },
  {
   "cell_type": "code",
   "execution_count": null,
   "id": "82904f3c-5577-4f62-b6f2-d47d87c8813a",
   "metadata": {},
   "outputs": [],
   "source": [
    "#2d decision tree"
   ]
  },
  {
   "cell_type": "code",
   "execution_count": 15,
   "id": "23202941-c5dc-44ef-b727-b0b5e348c6d1",
   "metadata": {},
   "outputs": [
    {
     "name": "stdout",
     "output_type": "stream",
     "text": [
      "Decision Tree is:\n",
      "outlook\n",
      "\tovercast ->  ['yes']\n",
      "\n",
      "\train\n",
      "\t\twind\n",
      "\t\t\tstrong ->  ['no']\n",
      "\n",
      "\t\t\tweak ->  ['yes']\n",
      "\n",
      "\tsunny\n",
      "\t\thumidity\n",
      "\t\t\thigh ->  ['no']\n",
      "\n",
      "\t\t\tnormal ->  ['yes']\n",
      "\n",
      "------------------\n",
      "Predicted Label for new example {'outlook': 'sunny', 'temperature': 'hot', 'humidity': 'normal', 'wind': 'strong'}  is: ['yes']\n"
     ]
    }
   ],
   "source": [
    "import pandas as pd\n",
    "import math\n",
    "import numpy as np\n",
    "\n",
    "data = pd.read_csv(\"decision tree.csv\")\n",
    "features = [feat for feat in data]\n",
    "features.remove(\"answer\")\n",
    "\n",
    "class Node:\n",
    "    def __init__(self):\n",
    "        self.children = []\n",
    "        self.value = \"\"\n",
    "        self.isLeaf = False\n",
    "        self.pred = \"\"\n",
    "def entropy(examples):\n",
    "    pos = 0.0\n",
    "    neg = 0.0\n",
    "    for _, row in examples.iterrows():\n",
    "        if row[\"answer\"] == \"yes\":\n",
    "            pos += 1\n",
    "        else:\n",
    "            neg += 1\n",
    "    if pos == 0.0 or neg == 0.0:\n",
    "        return 0.0\n",
    "    else:\n",
    "        p = pos / (pos + neg)\n",
    "        n = neg / (pos + neg)\n",
    "        return -(p * math.log(p, 2) + n * math.log(n, 2))\n",
    "\n",
    "    \n",
    "def info_gain(examples, attr):\n",
    "    uniq = np.unique(examples[attr])\n",
    "    gain = entropy(examples)\n",
    "    for u in uniq:\n",
    "        subdata = examples[examples[attr] == u]\n",
    "        sub_e = entropy(subdata)\n",
    "        gain -= (float(len(subdata)) / float(len(examples))) * sub_e\n",
    "    return gain\n",
    "\n",
    "def ID3(examples, attrs):\n",
    "    root = Node()\n",
    "\n",
    "    max_gain = 0\n",
    "    max_feat = \"\"\n",
    "    for feature in attrs:\n",
    "        gain = info_gain(examples, feature)\n",
    "        if gain > max_gain:\n",
    "            max_gain = gain\n",
    "            max_feat = feature\n",
    "    root.value = max_feat\n",
    "    uniq = np.unique(examples[max_feat])\n",
    "    for u in uniq:\n",
    "        subdata = examples[examples[max_feat] == u]\n",
    "        if entropy(subdata) == 0.0:\n",
    "            newNode = Node()\n",
    "            newNode.isLeaf = True\n",
    "            newNode.value = u\n",
    "            newNode.pred = np.unique(subdata[\"answer\"])\n",
    "            root.children.append(newNode)\n",
    "        else:\n",
    "            dummyNode = Node()\n",
    "            dummyNode.value = u\n",
    "            new_attrs = attrs.copy()\n",
    "            new_attrs.remove(max_feat)\n",
    "            child = ID3(subdata, new_attrs)\n",
    "            dummyNode.children.append(child)\n",
    "            root.children.append(dummyNode)\n",
    "\n",
    "    return root\n",
    "\n",
    "def printTree(root: Node, depth=0):\n",
    "    for i in range(depth):\n",
    "        print(\"\\t\", end=\"\")\n",
    "    print(root.value, end=\"\")\n",
    "    if root.isLeaf:\n",
    "        print(\" -> \", root.pred)\n",
    "    print()\n",
    "    for child in root.children:\n",
    "        printTree(child, depth + 1)\n",
    "\n",
    "def classify(root: Node, new):\n",
    "    for child in root.children:\n",
    "        if child.value == new[root.value]:\n",
    "            if child.isLeaf:\n",
    "                print (\"Predicted Label for new example\", new,\" is:\", child.pred)\n",
    "                exit\n",
    "            else:\n",
    "                classify (child.children[0], new)\n",
    "\n",
    "root = ID3(data, features)\n",
    "print(\"Decision Tree is:\")\n",
    "printTree(root)\n",
    "print (\"------------------\")\n",
    "\n",
    "new = {\"outlook\":\"sunny\", \"temperature\":\"hot\", \"humidity\":\"normal\", \"wind\":\"strong\"}\n",
    "classify (root, new)                \n",
    "\n"
   ]
  },
  {
   "cell_type": "code",
   "execution_count": null,
   "id": "93067241-35b8-402e-9a01-ce046f5f63ae",
   "metadata": {},
   "outputs": [],
   "source": [
    "#2e random forest"
   ]
  },
  {
   "cell_type": "code",
   "execution_count": 11,
   "id": "49e3aa93-8e0f-4fc2-aae0-28154cdb97e2",
   "metadata": {},
   "outputs": [
    {
     "name": "stdout",
     "output_type": "stream",
     "text": [
      "Classification Accuracy: 81.48148148148148\n",
      "[[37  5]\n",
      " [10 29]]\n"
     ]
    },
    {
     "data": {
      "image/png": "[encoded data removed]",
      "text/plain": [
       "<Figure size 500x400 with 2 Axes>"
      ]
     },
     "metadata": {},
     "output_type": "display_data"
    }
   ],
   "source": [
    "import pandas as pd\n",
    "data=pd.read_csv(\"HeartDisease.csv\")\n",
    "X =data.iloc[:,[1,2,3,4,5,6,7,8,9,10,11,12]].values\n",
    "y =data.iloc[:,13].values\n",
    "from sklearn.model_selection import train_test_split\n",
    "X_train, X_test, y_train, y_test = train_test_split(X, y, test_size=0.3, random_state=1)\n",
    "from sklearn.ensemble import RandomForestClassifier\n",
    "rfc=RandomForestClassifier()\n",
    "rfc.fit(X_train, y_train)\n",
    "y_pred=rfc.predict(X_test)\n",
    "from sklearn import metrics\n",
    "print(\"Classification Accuracy:\", metrics.accuracy_score(y_test, y_pred)*100)\n",
    "cm=metrics.confusion_matrix(y_test,y_pred)\n",
    "print(cm)\n",
    "import seaborn as sn\n",
    "from matplotlib import pyplot as plt\n",
    "plt.figure(figsize=(5,4))\n",
    "sn.heatmap(cm,annot=True)\n",
    "plt.xlabel('Predicted value')\n",
    "plt.ylabel('Actual value')\n",
    "plt.show()\n"
   ]
  },
  {
   "cell_type": "code",
   "execution_count": null,
   "id": "d115d2e1-1403-4b92-8f1c-22f653f1c904",
   "metadata": {},
   "outputs": [],
   "source": [
    "#3 k means"
   ]
  },
  {
   "cell_type": "code",
   "execution_count": 13,
   "id": "f8b90747-9b78-49a9-a975-91334c91ab0d",
   "metadata": {},
   "outputs": [
    {
     "data": {
      "image/png": "[encoded data removed]",
      "text/plain": [
       "<Figure size 640x480 with 1 Axes>"
      ]
     },
     "metadata": {},
     "output_type": "display_data"
    }
   ],
   "source": [
    "import pandas as pd\n",
    "import numpy as np\n",
    "import matplotlib.pyplot as plt \n",
    "import seaborn as sns\n",
    "from sklearn.cluster import KMeans \n",
    "from sklearn.metrics import silhouette_score\n",
    "from sklearn.preprocessing import MinMaxScaler\n",
    "iris = pd.read_csv(\"iris.csv\")\n",
    "x = iris.iloc[:, [ 1,2,3,4]].values\n",
    "\n",
    "from sklearn.cluster import KMeans\n",
    "wcss = []\n",
    "\n",
    "for i in range(1, 11):\n",
    "    kmeans = KMeans(n_clusters = i, init = 'k-means++', max_iter = 300, n_init = 10, random_state = 0)\n",
    "    kmeans.fit(x)\n",
    "    wcss.append(kmeans.inertia_)\n",
    "\n",
    "\n",
    "kmeans = KMeans(n_clusters = 3, init = 'k-means++', max_iter = 300, n_init = 10, random_state = 0)\n",
    "y_kmeans = kmeans.fit_predict(x)\n",
    "plt.scatter(x[y_kmeans == 0, 0], x[y_kmeans == 0, 1], s = 100, c = 'blue', label = 'Iris-setosa')\n",
    "plt.scatter(x[y_kmeans == 1, 0], x[y_kmeans == 1, 1], s = 100, c = 'orange', label = 'Iris-versicolour')\n",
    "plt.scatter(x[y_kmeans == 2, 0], x[y_kmeans == 2, 1], s = 100, c = 'green', label = 'Iris-virginica')\n",
    "plt.scatter(kmeans.cluster_centers_[:, 0], kmeans.cluster_centers_[:,1], s = 100, c = 'red', label = 'Centroids')\n",
    "\n",
    "plt.legend()\n",
    "\n",
    "plt.show()\n"
   ]
  },
  {
   "cell_type": "code",
   "execution_count": null,
   "id": "ac663b47-1540-43f7-aeb3-bd22057f5d48",
   "metadata": {},
   "outputs": [],
   "source": [
    "#4"
   ]
  },
  {
   "cell_type": "code",
   "execution_count": 19,
   "id": "40edf1e5-9110-40f4-8cc3-b79810196507",
   "metadata": {},
   "outputs": [
    {
     "name": "stdout",
     "output_type": "stream",
     "text": [
      "['God', 'is', 'Great', '!', 'I', 'won', 'a', 'lottery', '.']\n"
     ]
    }
   ],
   "source": [
    "#Tokenization\n",
    "from nltk.tokenize import word_tokenize\n",
    "text = \"God is Great! I won a lottery.\"\n",
    "print(word_tokenize(text))"
   ]
  },
  {
   "cell_type": "code",
   "execution_count": 1,
   "id": "9cd6ff88-f8c3-46ea-baff-a47b07d312b1",
   "metadata": {},
   "outputs": [
    {
     "name": "stdout",
     "output_type": "stream",
     "text": [
      "Lemma for studies is study\n",
      "Lemma for studying is studying\n",
      "Lemma for cries is cry\n",
      "Lemma for cry is cry\n"
     ]
    }
   ],
   "source": [
    "import nltk\n",
    "from nltk.stem.porter import PorterStemmer\n",
    "porter_stemmer = PorterStemmer()\n",
    "text = \"studies studying cries cry\"\n",
    "tokenization = nltk.word_tokenize(text)\n",
    "for w in tokenization:\n",
    "    print(\"Stemming for {} is {}\".format(w,porter_stemmer.stem(w)))"
   ]
  },
  {
   "cell_type": "code",
   "execution_count": 2,
   "id": "83a7c644-f150-4758-9f23-b17998fe3eb0",
   "metadata": {},
   "outputs": [
    {
     "name": "stdout",
     "output_type": "stream",
     "text": [
      "Lemma for studies is study\n",
      "Lemma for studying is studying\n",
      "Lemma for cries is cry\n",
      "Lemma for cry is cry\n"
     ]
    }
   ],
   "source": [
    "#Lemmatization\n",
    "import nltk\n",
    "from nltk.stem import WordNetLemmatizer\n",
    "wordnet_lemmatizer = WordNetLemmatizer()\n",
    "text = \"studies studying cries cry\"\n",
    "tokenization = nltk.word_tokenize(text)\n",
    "for w in tokenization:\n",
    "    print(\"Lemma for {} is {}\".format(w, wordnet_lemmatizer.lemmatize(w)))"
   ]
  },
  {
   "cell_type": "code",
   "execution_count": null,
   "id": "bc7ec549-4941-4f99-b3c8-c6bad7fd14fe",
   "metadata": {},
   "outputs": [],
   "source": [
    "#5 Bag of words"
   ]
  },
  {
   "cell_type": "code",
   "execution_count": 5,
   "id": "a929e1d6-7fcb-49f1-89f3-f8488fc72e1c",
   "metadata": {},
   "outputs": [
    {
     "name": "stdout",
     "output_type": "stream",
     "text": [
      "Bag of Words Model:\n",
      "cat: 1\n",
      "sat: 1\n",
      "mat: 2\n",
      "comfortable: 1\n",
      "sang: 1\n",
      "sweet: 1\n",
      "song: 2\n",
      "touched: 1\n",
      "everyone: 1\n",
      "heart: 1\n",
      "coding: 3\n",
      "challenging: 1\n",
      "also: 1\n",
      "incredibly: 1\n",
      "rewarding: 1\n"
     ]
    },
    {
     "name": "stderr",
     "output_type": "stream",
     "text": [
      "[nltk_data] Downloading package punkt to\n",
      "[nltk_data]     C:\\Users\\student\\AppData\\Roaming\\nltk_data...\n",
      "[nltk_data]   Package punkt is already up-to-date!\n",
      "[nltk_data] Downloading package stopwords to\n",
      "[nltk_data]     C:\\Users\\student\\AppData\\Roaming\\nltk_data...\n",
      "[nltk_data]   Package stopwords is already up-to-date!\n"
     ]
    }
   ],
   "source": [
    "import nltk\n",
    "from nltk.corpus import stopwords\n",
    "from nltk.tokenize import word_tokenize\n",
    "from nltk.probability import FreqDist\n",
    "\n",
    "\n",
    "nltk.download('punkt')\n",
    "nltk.download('stopwords')\n",
    "\n",
    "\n",
    "def preprocess_text(text):\n",
    "    stop_words = set(stopwords.words('english'))\n",
    "    word_tokens = word_tokenize(text)\n",
    "    filtered_words = [word.lower() for word in word_tokens if word.isalpha() and word.lower() not in stop_words]\n",
    "    return filtered_words\n",
    "\n",
    "\n",
    "def create_bow_model(texts):\n",
    "    all_words = []\n",
    "    for text in texts:\n",
    "        words = preprocess_text(text)\n",
    "        all_words.extend(words)\n",
    "\n",
    "\n",
    "    word_freq = FreqDist(all_words)\n",
    "    bow_model = {word: freq for word, freq in word_freq.items()}\n",
    "    return bow_model\n",
    "\n",
    "\n",
    "# Example usage\n",
    "texts = [\n",
    "    \"The cat sat on the mat, and the mat was comfortable.\",\n",
    "    \"She sang a sweet song, a song that touched everyone's heart.\",\n",
    "    \"Coding coding can be challenging, but coding is also incredibly rewarding.\",\n",
    "]\n",
    "\n",
    "\n",
    "bow_model = create_bow_model(texts)\n",
    "\n",
    "\n",
    "# Print the Bag of Words model\n",
    "print(\"Bag of Words Model:\")\n",
    "for word, freq in bow_model.items():\n",
    "    print(f\"{word}: {freq}\")"
   ]
  },
  {
   "cell_type": "code",
   "execution_count": null,
   "id": "e0d9dbca-e8a0-44ff-a04e-9097682669cf",
   "metadata": {},
   "outputs": [],
   "source": [
    "#6 "
   ]
  },
  {
   "cell_type": "code",
   "execution_count": 6,
   "id": "61d71d85-74f4-4d19-803c-ac7df94478a9",
   "metadata": {},
   "outputs": [
    {
     "name": "stdout",
     "output_type": "stream",
     "text": [
      "Pattern: Female, Count: 204\n"
     ]
    }
   ],
   "source": [
    "import csv\n",
    "import re\n",
    "\n",
    "def identify_patterns(csv_file_path, column_name):\n",
    "    patterns = {}\n",
    "\n",
    "    with open(csv_file_path, 'r') as csvfile:\n",
    "        reader = csv.DictReader(csvfile)\n",
    "\n",
    "        for row in reader:\n",
    "            text = row[column_name]\n",
    "\n",
    "            # Example pattern: finding words that start with 'pattern'\n",
    "            pattern_matches = re.findall(r'Female', text, flags=re.IGNORECASE)\n",
    "\n",
    "            # Update patterns dictionary with matches\n",
    "            for match in pattern_matches:\n",
    "                if match in patterns:\n",
    "                    patterns[match] += 1\n",
    "                else:\n",
    "                    patterns[match] = 1\n",
    "\n",
    "    return patterns\n",
    "csv_file_path = 'Social_Network _Ads.csv'  \n",
    "column_name = 'Gender' \n",
    "result = identify_patterns(csv_file_path, column_name)\n",
    "\n",
    "# Display the identified patterns and their counts\n",
    "for pattern, count in result.items():\n",
    "    print(f\"Pattern: {pattern}, Count: {count}\")"
   ]
  },
  {
   "cell_type": "code",
   "execution_count": null,
   "id": "16b81b41-b216-4ad9-85e2-df777f5a4188",
   "metadata": {},
   "outputs": [],
   "source": [
    "#7"
   ]
  },
  {
   "cell_type": "code",
   "execution_count": null,
   "id": "d34a61cd-e80b-4a43-af69-56718df68837",
   "metadata": {},
   "outputs": [],
   "source": [
    "import numpy as np\n",
    "from hmmlearn import hmm\n",
    "\n",
    "\n",
    "n_states = 2 \n",
    "\n",
    "trans_matrix = np.array([[0.7, 0.3], [0.4, 0.6]])\n",
    "\n",
    "emission_matrix = np.array([[0.1, 0.4, 0.5], [0.6, 0.3, 0.1]])\n",
    "\n",
    "initial_probs = np.array([0.6, 0.4])\n",
    "\n",
    "model = hmm.MultinomialHMM(n_components=n_states,\n",
    "                           startprob_prior=initial_probs,\n",
    "                           transmat_prior=trans_matrix,\n",
    "                           n_iter=100)\n",
    "\n",
    "train_data = np.array([[0, 1, 2, 0, 1, 2, 0, 2, 1]])\n",
    "\n",
    "train_data = train_data.reshape(-1, 1)\n",
    "\n",
    "model.fit(train_data)\n",
    "\n",
    "new_data = np.array([[0, 2, 1]]) \n",
    "new_data = new_data.reshape(-1, 1)\n",
    "predicted_states = model.predict(new_data)\n",
    "\n",
    "weather_states = ['Rainy', 'Sunny']\n",
    "predicted_states_text = [weather_states[state] for state in predicted_states]\n",
    "\n",
    "print(\"Predicted Weather States:\", predicted_states_text)"
   ]
  },
  {
   "cell_type": "code",
   "execution_count": null,
   "id": "2b491576-c436-4d6d-80d2-8bbe76977276",
   "metadata": {},
   "outputs": [],
   "source": [
    "#8"
   ]
  },
  {
   "cell_type": "code",
   "execution_count": 1,
   "id": "be993f78-784e-47d2-9f10-237e82d81969",
   "metadata": {},
   "outputs": [
    {
     "name": "stdout",
     "output_type": "stream",
     "text": [
      "Path found: ['A', 'E', 'D', 'G']\n"
     ]
    },
    {
     "data": {
      "text/plain": [
       "['A', 'E', 'D', 'G']"
      ]
     },
     "execution_count": 1,
     "metadata": {},
     "output_type": "execute_result"
    }
   ],
   "source": [
    "def aStarAlgo(start_node, stop_node):\n",
    "         \n",
    "        open_set = set(start_node) \n",
    "        closed_set = set()\n",
    "        g = {} #store distance from starting node\n",
    "        parents = {}# parents contains an adjacency map of all nodes\n",
    " \n",
    "        #ditance of starting node from itself is zero\n",
    "        g[start_node] = 0\n",
    "        #start_node is root node i.e it has no parent nodes\n",
    "        #so start_node is set to its own parent node\n",
    "        parents[start_node] = start_node\n",
    "         \n",
    "         \n",
    "        while len(open_set) > 0:\n",
    "            n = None\n",
    " \n",
    "            #node with lowest f() is found\n",
    "            for v in open_set:\n",
    "                if n == None or g[v] + heuristic(v) < g[n] + heuristic(n):\n",
    "                    n = v\n",
    "             \n",
    "                     \n",
    "            if n == stop_node or Graph_nodes[n] == None:\n",
    "                pass\n",
    "            else:\n",
    "                for (m, weight) in get_neighbors(n):\n",
    "                    #nodes 'm' not in first and last set are added to first\n",
    "                    #n is set its parent\n",
    "                    if m not in open_set and m not in closed_set:\n",
    "                        open_set.add(m)\n",
    "                        parents[m] = n\n",
    "                        g[m] = g[n] + weight\n",
    "                         \n",
    "     \n",
    "                    #for each node m,compare its distance from start i.e g(m) to the\n",
    "                    #from start through n node\n",
    "                    else:\n",
    "                        if g[m] > g[n] + weight:\n",
    "                            #update g(m)\n",
    "                            g[m] = g[n] + weight\n",
    "                            #change parent of m to n\n",
    "                            parents[m] = n\n",
    "                             \n",
    "                            #if m in closed set,remove and add to open\n",
    "                            if m in closed_set:\n",
    "                                closed_set.remove(m)\n",
    "                                open_set.add(m)\n",
    " \n",
    "            if n == None:\n",
    "                print('Path does not exist!')\n",
    "                return None\n",
    " \n",
    "            # if the current node is the stop_node\n",
    "            # then we begin reconstructin the path from it to the start_node\n",
    "            if n == stop_node:\n",
    "                path = []\n",
    " \n",
    "                while parents[n] != n:\n",
    "                    path.append(n)\n",
    "                    n = parents[n]\n",
    " \n",
    "                path.append(start_node)\n",
    " \n",
    "                path.reverse()\n",
    " \n",
    "                print('Path found: {}'.format(path))\n",
    "                return path\n",
    " \n",
    " \n",
    "            # remove n from the open_list, and add it to closed_list\n",
    "            # because all of his neighbors were inspected\n",
    "            open_set.remove(n)\n",
    "            closed_set.add(n)\n",
    " \n",
    "        print('Path does not exist!')\n",
    "        return None\n",
    "         \n",
    "#define fuction to return neighbor and its distance\n",
    "#from the passed node\n",
    "def get_neighbors(v):\n",
    "    if v in Graph_nodes:\n",
    "        return Graph_nodes[v]\n",
    "    else:\n",
    "        return None\n",
    "#for simplicity we ll consider heuristic distances given\n",
    "#and this function returns heuristic distance for all nodes\n",
    "def heuristic(n):\n",
    "        H_dist = {\n",
    "            'A': 11,\n",
    "            'B': 6,\n",
    "            'C': 99,\n",
    "            'D': 1,\n",
    "            'E': 7,\n",
    "            'G': 0,\n",
    "             \n",
    "        }\n",
    " \n",
    "        return H_dist[n]\n",
    " \n",
    "#Describe your graph here  \n",
    "Graph_nodes = {\n",
    "    'A': [('B', 2), ('E', 3)],\n",
    "    'B': [('C', 1),('G', 9)],\n",
    "    'C': None,\n",
    "    'E': [('D', 6)],\n",
    "    'D': [('G', 1)],\n",
    "     \n",
    "}\n",
    "aStarAlgo('A', 'G')"
   ]
  },
  {
   "cell_type": "code",
   "execution_count": null,
   "id": "a27efc42-29ce-4f1a-b45b-79e7d7caa612",
   "metadata": {},
   "outputs": [],
   "source": [
    "#9 (Use in idle)"
   ]
  },
  {
   "cell_type": "code",
   "execution_count": null,
   "id": "e403423c-a60d-4b85-94fa-e5c2cffebb2a",
   "metadata": {},
   "outputs": [],
   "source": [
    "def print_board(board):\n",
    "    for row in board:\n",
    "        print(\" | \".join(row))\n",
    "        print(\"-\" * 5)\n",
    "\n",
    "def check_winner(board, player):\n",
    "    # Check rows, columns, and diagonals\n",
    "    for i in range(3):\n",
    "        if all(board[i][j] == player for j in range(3)) or all(board[j][i] == player for j in range(3)):\n",
    "            return True\n",
    "    if all(board[i][i] == player for i in range(3)) or all(board[i][2 - i] == player for i in range(3)):\n",
    "        return True\n",
    "    return False\n",
    "\n",
    "def is_board_full(board):\n",
    "    return all(board[i][j] != \" \" for i in range(3) for j in range(3))\n",
    "\n",
    "def tic_tac_toe():\n",
    "    board = [[\" \" for _ in range(3)] for _ in range(3)]\n",
    "    players = [\"X\", \"O\"]\n",
    "    current_player = players[0]\n",
    "\n",
    "    while True:\n",
    "        print_board(board)\n",
    "\n",
    "        # Get player move\n",
    "        while True:\n",
    "            row = int(input(\"Enter row (0, 1, or 2): \"))\n",
    "            col = int(input(\"Enter column (0, 1, or 2): \"))\n",
    "            if 0 <= row < 3 and 0 <= col < 3 and board[row][col] == \" \":\n",
    "                break\n",
    "            else:\n",
    "                print(\"Invalid move. Try again.\")\n",
    "\n",
    "        # Make the move\n",
    "        board[row][col] = current_player\n",
    "\n",
    "        # Check for a winner\n",
    "        if check_winner(board, current_player):\n",
    "            print_board(board)\n",
    "            print(f\"Player {current_player} wins!\")\n",
    "            break\n",
    "\n",
    "        # Check for a tie\n",
    "        if is_board_full(board):\n",
    "            print_board(board)\n",
    "            print(\"It's a tie!\")\n",
    "            break\n",
    "\n",
    "        # Switch to the other player\n",
    "        current_player = players[1] if current_player == players[0] else players[0]\n",
    "\n",
    "if __name__ == \"__main__\":\n",
    "    tic_tac_toe()\n"
   ]
  },
  {
   "cell_type": "code",
   "execution_count": null,
   "id": "20574386-b78b-401f-b247-16d462998a87",
   "metadata": {},
   "outputs": [],
   "source": [
    "#10"
   ]
  },
  {
   "cell_type": "code",
   "execution_count": 5,
   "id": "52aeed28-3cd9-45cf-8952-2011d639b21b",
   "metadata": {},
   "outputs": [
    {
     "name": "stdout",
     "output_type": "stream",
     "text": [
      "Epoch 1/15\n"
     ]
    },
    {
     "name": "stderr",
     "output_type": "stream",
     "text": [
      "D:\\Lib\\site-packages\\keras\\src\\layers\\core\\dense.py:85: UserWarning: Do not pass an `input_shape`/`input_dim` argument to a layer. When using Sequential models, prefer using an `Input(shape)` object as the first layer in the model instead.\n",
      "  super().__init__(activity_regularizer=activity_regularizer, **kwargs)\n"
     ]
    },
    {
     "name": "stdout",
     "output_type": "stream",
     "text": [
      "\u001b[1m4/4\u001b[0m \u001b[32m━━━━━━━━━━━━━━━━━━━━\u001b[0m\u001b[37m\u001b[0m \u001b[1m0s\u001b[0m 33ms/step - accuracy: 0.2610 - loss: 1.1053 - val_accuracy: 0.4667 - val_loss: 1.0156\n",
      "Epoch 2/15\n",
      "\u001b[1m4/4\u001b[0m \u001b[32m━━━━━━━━━━━━━━━━━━━━\u001b[0m\u001b[37m\u001b[0m \u001b[1m0s\u001b[0m 5ms/step - accuracy: 0.3950 - loss: 1.0238 - val_accuracy: 0.6000 - val_loss: 0.9507\n",
      "Epoch 3/15\n",
      "\u001b[1m4/4\u001b[0m \u001b[32m━━━━━━━━━━━━━━━━━━━━\u001b[0m\u001b[37m\u001b[0m \u001b[1m0s\u001b[0m 7ms/step - accuracy: 0.6477 - loss: 0.9552 - val_accuracy: 0.6667 - val_loss: 0.8915\n",
      "Epoch 4/15\n",
      "\u001b[1m4/4\u001b[0m \u001b[32m━━━━━━━━━━━━━━━━━━━━\u001b[0m\u001b[37m\u001b[0m \u001b[1m0s\u001b[0m 10ms/step - accuracy: 0.6433 - loss: 0.9302 - val_accuracy: 0.8000 - val_loss: 0.8385\n",
      "Epoch 5/15\n",
      "\u001b[1m4/4\u001b[0m \u001b[32m━━━━━━━━━━━━━━━━━━━━\u001b[0m\u001b[37m\u001b[0m \u001b[1m0s\u001b[0m 5ms/step - accuracy: 0.7506 - loss: 0.8535 - val_accuracy: 0.8000 - val_loss: 0.7888\n",
      "Epoch 6/15\n",
      "\u001b[1m4/4\u001b[0m \u001b[32m━━━━━━━━━━━━━━━━━━━━\u001b[0m\u001b[37m\u001b[0m \u001b[1m0s\u001b[0m 7ms/step - accuracy: 0.7106 - loss: 0.8402 - val_accuracy: 0.8333 - val_loss: 0.7432\n",
      "Epoch 7/15\n",
      "\u001b[1m4/4\u001b[0m \u001b[32m━━━━━━━━━━━━━━━━━━━━\u001b[0m\u001b[37m\u001b[0m \u001b[1m0s\u001b[0m 6ms/step - accuracy: 0.7694 - loss: 0.7624 - val_accuracy: 0.8333 - val_loss: 0.7015\n",
      "Epoch 8/15\n",
      "\u001b[1m4/4\u001b[0m \u001b[32m━━━━━━━━━━━━━━━━━━━━\u001b[0m\u001b[37m\u001b[0m \u001b[1m0s\u001b[0m 10ms/step - accuracy: 0.8156 - loss: 0.7414 - val_accuracy: 0.8333 - val_loss: 0.6633\n",
      "Epoch 9/15\n",
      "\u001b[1m4/4\u001b[0m \u001b[32m━━━━━━━━━━━━━━━━━━━━\u001b[0m\u001b[37m\u001b[0m \u001b[1m0s\u001b[0m 10ms/step - accuracy: 0.8125 - loss: 0.6843 - val_accuracy: 0.8667 - val_loss: 0.6287\n",
      "Epoch 10/15\n",
      "\u001b[1m4/4\u001b[0m \u001b[32m━━━━━━━━━━━━━━━━━━━━\u001b[0m\u001b[37m\u001b[0m \u001b[1m0s\u001b[0m 6ms/step - accuracy: 0.7854 - loss: 0.6739 - val_accuracy: 0.8667 - val_loss: 0.5975\n",
      "Epoch 11/15\n",
      "\u001b[1m4/4\u001b[0m \u001b[32m━━━━━━━━━━━━━━━━━━━━\u001b[0m\u001b[37m\u001b[0m \u001b[1m0s\u001b[0m 7ms/step - accuracy: 0.8177 - loss: 0.6395 - val_accuracy: 0.8667 - val_loss: 0.5691\n",
      "Epoch 12/15\n",
      "\u001b[1m4/4\u001b[0m \u001b[32m━━━━━━━━━━━━━━━━━━━━\u001b[0m\u001b[37m\u001b[0m \u001b[1m0s\u001b[0m 7ms/step - accuracy: 0.8073 - loss: 0.6174 - val_accuracy: 0.9000 - val_loss: 0.5433\n",
      "Epoch 13/15\n",
      "\u001b[1m4/4\u001b[0m \u001b[32m━━━━━━━━━━━━━━━━━━━━\u001b[0m\u001b[37m\u001b[0m \u001b[1m0s\u001b[0m 10ms/step - accuracy: 0.7835 - loss: 0.6069 - val_accuracy: 0.9000 - val_loss: 0.5200\n",
      "Epoch 14/15\n",
      "\u001b[1m4/4\u001b[0m \u001b[32m━━━━━━━━━━━━━━━━━━━━\u001b[0m\u001b[37m\u001b[0m \u001b[1m0s\u001b[0m 6ms/step - accuracy: 0.8119 - loss: 0.5755 - val_accuracy: 0.9000 - val_loss: 0.4982\n",
      "Epoch 15/15\n",
      "\u001b[1m4/4\u001b[0m \u001b[32m━━━━━━━━━━━━━━━━━━━━\u001b[0m\u001b[37m\u001b[0m \u001b[1m0s\u001b[0m 9ms/step - accuracy: 0.8254 - loss: 0.5265 - val_accuracy: 0.9000 - val_loss: 0.4784\n",
      "WARNING:tensorflow:6 out of the last 7 calls to <function TensorFlowTrainer.make_predict_function.<locals>.one_step_on_data_distributed at 0x000002343DED2700> triggered tf.function retracing. Tracing is expensive and the excessive number of tracings could be due to (1) creating @tf.function repeatedly in a loop, (2) passing tensors with different shapes, (3) passing Python objects instead of tensors. For (1), please define your @tf.function outside of the loop. For (2), @tf.function has reduce_retracing=True option that can avoid unnecessary retracing. For (3), please refer to https://www.tensorflow.org/guide/function#controlling_retracing and https://www.tensorflow.org/api_docs/python/tf/function for  more details.\n",
      "\u001b[1m1/1\u001b[0m \u001b[32m━━━━━━━━━━━━━━━━━━━━\u001b[0m\u001b[37m\u001b[0m \u001b[1m0s\u001b[0m 24ms/step\n",
      "\n",
      "Single-layer Neural Network - Accuracy: 0.9\n",
      "Epoch 1/15\n"
     ]
    },
    {
     "name": "stderr",
     "output_type": "stream",
     "text": [
      "D:\\Lib\\site-packages\\keras\\src\\layers\\core\\dense.py:85: UserWarning: Do not pass an `input_shape`/`input_dim` argument to a layer. When using Sequential models, prefer using an `Input(shape)` object as the first layer in the model instead.\n",
      "  super().__init__(activity_regularizer=activity_regularizer, **kwargs)\n"
     ]
    },
    {
     "name": "stdout",
     "output_type": "stream",
     "text": [
      "\u001b[1m4/4\u001b[0m \u001b[32m━━━━━━━━━━━━━━━━━━━━\u001b[0m\u001b[37m\u001b[0m \u001b[1m1s\u001b[0m 32ms/step - accuracy: 0.4608 - loss: 1.0769 - val_accuracy: 0.5000 - val_loss: 0.9877\n",
      "Epoch 2/15\n",
      "\u001b[1m4/4\u001b[0m \u001b[32m━━━━━━━━━━━━━━━━━━━━\u001b[0m\u001b[37m\u001b[0m \u001b[1m0s\u001b[0m 8ms/step - accuracy: 0.4094 - loss: 1.0066 - val_accuracy: 0.6000 - val_loss: 0.8994\n",
      "Epoch 3/15\n",
      "\u001b[1m4/4\u001b[0m \u001b[32m━━━━━━━━━━━━━━━━━━━━\u001b[0m\u001b[37m\u001b[0m \u001b[1m0s\u001b[0m 8ms/step - accuracy: 0.6158 - loss: 0.9079 - val_accuracy: 0.8000 - val_loss: 0.8188\n",
      "Epoch 4/15\n",
      "\u001b[1m4/4\u001b[0m \u001b[32m━━━━━━━━━━━━━━━━━━━━\u001b[0m\u001b[37m\u001b[0m \u001b[1m0s\u001b[0m 9ms/step - accuracy: 0.7596 - loss: 0.8168 - val_accuracy: 0.8667 - val_loss: 0.7456\n",
      "Epoch 5/15\n",
      "\u001b[1m4/4\u001b[0m \u001b[32m━━━━━━━━━━━━━━━━━━━━\u001b[0m\u001b[37m\u001b[0m \u001b[1m0s\u001b[0m 9ms/step - accuracy: 0.7992 - loss: 0.7647 - val_accuracy: 0.9000 - val_loss: 0.6812\n",
      "Epoch 6/15\n",
      "\u001b[1m4/4\u001b[0m \u001b[32m━━━━━━━━━━━━━━━━━━━━\u001b[0m\u001b[37m\u001b[0m \u001b[1m0s\u001b[0m 8ms/step - accuracy: 0.7867 - loss: 0.7183 - val_accuracy: 0.9000 - val_loss: 0.6259\n",
      "Epoch 7/15\n",
      "\u001b[1m4/4\u001b[0m \u001b[32m━━━━━━━━━━━━━━━━━━━━\u001b[0m\u001b[37m\u001b[0m \u001b[1m0s\u001b[0m 5ms/step - accuracy: 0.7981 - loss: 0.6676 - val_accuracy: 0.9000 - val_loss: 0.5756\n",
      "Epoch 8/15\n",
      "\u001b[1m4/4\u001b[0m \u001b[32m━━━━━━━━━━━━━━━━━━━━\u001b[0m\u001b[37m\u001b[0m \u001b[1m0s\u001b[0m 12ms/step - accuracy: 0.8077 - loss: 0.6177 - val_accuracy: 0.9000 - val_loss: 0.5298\n",
      "Epoch 9/15\n",
      "\u001b[1m4/4\u001b[0m \u001b[32m━━━━━━━━━━━━━━━━━━━━\u001b[0m\u001b[37m\u001b[0m \u001b[1m0s\u001b[0m 12ms/step - accuracy: 0.8329 - loss: 0.5657 - val_accuracy: 0.9000 - val_loss: 0.4875\n",
      "Epoch 10/15\n",
      "\u001b[1m4/4\u001b[0m \u001b[32m━━━━━━━━━━━━━━━━━━━━\u001b[0m\u001b[37m\u001b[0m \u001b[1m0s\u001b[0m 10ms/step - accuracy: 0.8331 - loss: 0.5207 - val_accuracy: 0.9000 - val_loss: 0.4490\n",
      "Epoch 11/15\n",
      "\u001b[1m4/4\u001b[0m \u001b[32m━━━━━━━━━━━━━━━━━━━━\u001b[0m\u001b[37m\u001b[0m \u001b[1m0s\u001b[0m 5ms/step - accuracy: 0.8352 - loss: 0.4959 - val_accuracy: 0.9333 - val_loss: 0.4142\n",
      "Epoch 12/15\n",
      "\u001b[1m4/4\u001b[0m \u001b[32m━━━━━━━━━━━━━━━━━━━━\u001b[0m\u001b[37m\u001b[0m \u001b[1m0s\u001b[0m 7ms/step - accuracy: 0.8238 - loss: 0.4693 - val_accuracy: 0.9333 - val_loss: 0.3848\n",
      "Epoch 13/15\n",
      "\u001b[1m4/4\u001b[0m \u001b[32m━━━━━━━━━━━━━━━━━━━━\u001b[0m\u001b[37m\u001b[0m \u001b[1m0s\u001b[0m 10ms/step - accuracy: 0.8573 - loss: 0.4111 - val_accuracy: 0.9333 - val_loss: 0.3592\n",
      "Epoch 14/15\n",
      "\u001b[1m4/4\u001b[0m \u001b[32m━━━━━━━━━━━━━━━━━━━━\u001b[0m\u001b[37m\u001b[0m \u001b[1m0s\u001b[0m 6ms/step - accuracy: 0.8515 - loss: 0.4031 - val_accuracy: 0.9333 - val_loss: 0.3364\n",
      "Epoch 15/15\n",
      "\u001b[1m4/4\u001b[0m \u001b[32m━━━━━━━━━━━━━━━━━━━━\u001b[0m\u001b[37m\u001b[0m \u001b[1m0s\u001b[0m 10ms/step - accuracy: 0.8265 - loss: 0.4026 - val_accuracy: 0.9333 - val_loss: 0.3166\n",
      "\u001b[1m1/1\u001b[0m \u001b[32m━━━━━━━━━━━━━━━━━━━━\u001b[0m\u001b[37m\u001b[0m \u001b[1m0s\u001b[0m 42ms/step\n",
      "\n",
      "Multi-layer Neural Network - Accuracy: 0.9333333333333333\n"
     ]
    }
   ],
   "source": [
    "import numpy as np\n",
    "import tensorflow as tf\n",
    "from tensorflow.keras import layers, models\n",
    "from sklearn.datasets import load_iris\n",
    "from sklearn.model_selection import train_test_split\n",
    "from sklearn.preprocessing import StandardScaler\n",
    "from sklearn.metrics import accuracy_score\n",
    "\n",
    "X, y = load_iris(return_X_y=True)\n",
    "X_train, X_test, y_train, y_test = train_test_split(X, y, test_size=0.2, random_state=42)\n",
    "X_train, X_test = StandardScaler().fit_transform(X_train), StandardScaler().fit_transform(X_test)\n",
    "\n",
    "model_single_layer = models.Sequential([layers.Dense(64, 'relu', input_shape=(4,)), layers.Dense(3, 'softmax')])\n",
    "model_single_layer.compile(optimizer='adam', loss='sparse_categorical_crossentropy', metrics=['accuracy'])\n",
    "model_single_layer.fit(X_train, y_train, epochs=15, validation_data=(X_test, y_test))\n",
    "\n",
    "single_layer_accuracy = accuracy_score(y_test, np.argmax(model_single_layer.predict(X_test), axis=1))\n",
    "print(f\"\\nSingle-layer Neural Network - Accuracy: {single_layer_accuracy}\")\n",
    "\n",
    "model_multi_layer = models.Sequential([layers.Dense(64, 'relu', input_shape=(4,)), layers.Dense(32, 'relu'), layers.Dense(3, 'softmax')])\n",
    "model_multi_layer.compile(optimizer='adam', loss='sparse_categorical_crossentropy', metrics=['accuracy'])\n",
    "model_multi_layer.fit(X_train, y_train, epochs=15, validation_data=(X_test, y_test))\n",
    "\n",
    "multi_layer_accuracy = accuracy_score(y_test, np.argmax(model_multi_layer.predict(X_test), axis=1))\n",
    "print(f\"\\nMulti-layer Neural Network - Accuracy: {multi_layer_accuracy}\")\n"
   ]
  },
  {
   "cell_type": "code",
   "execution_count": null,
   "id": "be97d5d2-14c0-4d83-a228-11e25be781b8",
   "metadata": {},
   "outputs": [],
   "source": [
    "#11"
   ]
  },
  {
   "cell_type": "code",
   "execution_count": 3,
   "id": "f74f007b-889f-45a7-ad92-4ed9c48ef586",
   "metadata": {},
   "outputs": [
    {
     "data": {
      "image/png": "[encoded data removed]",
      "text/plain": [
       "<Figure size 640x480 with 1 Axes>"
      ]
     },
     "metadata": {},
     "output_type": "display_data"
    },
    {
     "name": "stdout",
     "output_type": "stream",
     "text": [
      "\u001b[1m1/1\u001b[0m \u001b[32m━━━━━━━━━━━━━━━━━━━━\u001b[0m\u001b[37m\u001b[0m \u001b[1m0s\u001b[0m 19ms/step\n",
      "Input: 0.2, Predicted Output: 1.3872774839401245\n",
      "Input: 0.5, Predicted Output: 2.0161046981811523\n",
      "Input: 0.8, Predicted Output: 2.6449320316314697\n"
     ]
    }
   ],
   "source": [
    "import tensorflow as tf\n",
    "import numpy as np\n",
    "import matplotlib.pyplot as plt\n",
    "np.random.seed(0)\n",
    "X_train = np.random.rand(100, 1)\n",
    "y_train = 2 * X_train + 1 + 0.1 * np.random.randn(100, 1)\n",
    "model = tf.keras.Sequential([\n",
    "    tf.keras.layers.Dense(units=1, input_shape=(1,))\n",
    "])\n",
    "model.compile(optimizer='sgd', loss='mean_squared_error')\n",
    "history = model.fit(X_train, y_train, epochs=100, verbose=0)\n",
    "plt.plot(history.history['loss'])\n",
    "plt.xlabel('Epochs')\n",
    "plt.ylabel('Mean Squared Error Loss')\n",
    "plt.title('Training Loss')\n",
    "plt.show()\n",
    "X_test = np.array([[0.2], [0.5], [0.8]])\n",
    "predictions = model.predict(X_test)\n",
    "for i in range(len(X_test)):\n",
    "    print(f\"Input: {X_test[i][0]}, Predicted Output: {predictions[i][0]}\")\n"
   ]
  },
  {
   "cell_type": "code",
   "execution_count": 1,
   "id": "00cbc43c-9307-4a42-8514-0f00fa17fec5",
   "metadata": {},
   "outputs": [
    {
     "name": "stdout",
     "output_type": "stream",
     "text": [
      "Epoch 1/5\n"
     ]
    },
    {
     "name": "stderr",
     "output_type": "stream",
     "text": [
      "D:\\Lib\\site-packages\\keras\\src\\layers\\convolutional\\base_conv.py:99: UserWarning: Do not pass an `input_shape`/`input_dim` argument to a layer. When using Sequential models, prefer using an `Input(shape)` object as the first layer in the model instead.\n",
      "  super().__init__(\n"
     ]
    },
    {
     "name": "stdout",
     "output_type": "stream",
     "text": [
      "\u001b[1m1688/1688\u001b[0m \u001b[32m━━━━━━━━━━━━━━━━━━━━\u001b[0m\u001b[37m\u001b[0m \u001b[1m7s\u001b[0m 3ms/step - accuracy: 0.8937 - loss: 0.3425 - val_accuracy: 0.9853 - val_loss: 0.0535\n",
      "Epoch 2/5\n",
      "\u001b[1m1688/1688\u001b[0m \u001b[32m━━━━━━━━━━━━━━━━━━━━\u001b[0m\u001b[37m\u001b[0m \u001b[1m5s\u001b[0m 3ms/step - accuracy: 0.9844 - loss: 0.0499 - val_accuracy: 0.9862 - val_loss: 0.0437\n",
      "Epoch 3/5\n",
      "\u001b[1m1688/1688\u001b[0m \u001b[32m━━━━━━━━━━━━━━━━━━━━\u001b[0m\u001b[37m\u001b[0m \u001b[1m6s\u001b[0m 4ms/step - accuracy: 0.9889 - loss: 0.0357 - val_accuracy: 0.9915 - val_loss: 0.0326\n",
      "Epoch 4/5\n",
      "\u001b[1m1688/1688\u001b[0m \u001b[32m━━━━━━━━━━━━━━━━━━━━\u001b[0m\u001b[37m\u001b[0m \u001b[1m7s\u001b[0m 4ms/step - accuracy: 0.9919 - loss: 0.0260 - val_accuracy: 0.9905 - val_loss: 0.0374\n",
      "Epoch 5/5\n",
      "\u001b[1m1688/1688\u001b[0m \u001b[32m━━━━━━━━━━━━━━━━━━━━\u001b[0m\u001b[37m\u001b[0m \u001b[1m6s\u001b[0m 4ms/step - accuracy: 0.9937 - loss: 0.0183 - val_accuracy: 0.9912 - val_loss: 0.0359\n",
      "\u001b[1m313/313\u001b[0m \u001b[32m━━━━━━━━━━━━━━━━━━━━\u001b[0m\u001b[37m\u001b[0m \u001b[1m1s\u001b[0m 2ms/step - accuracy: 0.9870 - loss: 0.0406\n",
      "\n",
      "Test accuracy: 0.989799976348877\n"
     ]
    }
   ],
   "source": [
    "#12\n",
    "import tensorflow as tf\n",
    "from tensorflow.keras.models import Sequential\n",
    "from tensorflow.keras.layers import Conv2D, Dense, Flatten, MaxPooling2D\n",
    "\n",
    "mnist = tf.keras.datasets.mnist\n",
    "(X_train, y_train), (X_test, y_test) = mnist.load_data()\n",
    "X_train, X_test = X_train / 255.0, X_test / 255.0  # Normalize pixel values\n",
    "\n",
    "model = Sequential([\n",
    "    Conv2D(32, kernel_size=(3, 3), activation='relu', input_shape=(28, 28, 1)),\n",
    "    MaxPooling2D(pool_size=(2, 2)),\n",
    "    Conv2D(64, (3, 3), activation='relu'),\n",
    "    MaxPooling2D(pool_size=(2, 2)),\n",
    "    Flatten(),\n",
    "    Dense(64, activation='relu'),\n",
    "    Dense(10, activation='softmax')\n",
    "])\n",
    "\n",
    "model.compile(optimizer='adam',\n",
    "              loss='sparse_categorical_crossentropy',\n",
    "              metrics=['accuracy'])\n",
    "\n",
    "model.fit(X_train, y_train, epochs=5, validation_split=0.1)\n",
    "\n",
    "test_loss, test_acc = model.evaluate(X_test, y_test)\n",
    "print(f'\\nTest accuracy: {test_acc}')\n"
   ]
  }
 ],
 "metadata": {
  "kernelspec": {
   "display_name": "Python 3 (ipykernel)",
   "language": "python",
   "name": "python3"
  },
  "language_info": {
   "codemirror_mode": {
    "name": "ipython",
    "version": 3
   },
   "file_extension": ".py",
   "mimetype": "text/x-python",
   "name": "python",
   "nbconvert_exporter": "python",
   "pygments_lexer": "ipython3",
   "version": "3.12.2"
  }
 },
 "nbformat": 4,
 "nbformat_minor": 5
}
